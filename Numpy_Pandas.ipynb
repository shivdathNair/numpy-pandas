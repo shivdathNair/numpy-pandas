{
 "cells": [
  {
   "cell_type": "markdown",
   "id": "096f2b64",
   "metadata": {},
   "source": [
    "# Numpy and Pandas"
   ]
  },
  {
   "cell_type": "markdown",
   "id": "985d974d",
   "metadata": {},
   "source": [
    "## Numpy : consists of multi dimensional array objects and a collection of method for processing those arrays."
   ]
  },
  {
   "cell_type": "code",
   "execution_count": 15,
   "id": "f116daac",
   "metadata": {},
   "outputs": [],
   "source": [
    "import numpy as np"
   ]
  },
  {
   "cell_type": "markdown",
   "id": "466a88b6",
   "metadata": {},
   "source": [
    "## Numpy methods:"
   ]
  },
  {
   "cell_type": "markdown",
   "id": "cf0929a5",
   "metadata": {},
   "source": [
    "## np.array() method: creates array of n-dimensions\n",
    "##   Syntax: np.array([[elements], [elements]])"
   ]
  },
  {
   "cell_type": "code",
   "execution_count": 17,
   "id": "8cc4ed13",
   "metadata": {},
   "outputs": [
    {
     "data": {
      "text/plain": [
       "array([[0, 1, 2, 3],\n",
       "       [4, 5, 6, 7]])"
      ]
     },
     "execution_count": 17,
     "metadata": {},
     "output_type": "execute_result"
    }
   ],
   "source": [
    "array1 = np.array([[0, 1, 2, 3], [4, 5, 6, 7]])\n",
    "array1"
   ]
  },
  {
   "cell_type": "code",
   "execution_count": 5,
   "id": "70d90a27",
   "metadata": {},
   "outputs": [],
   "source": [
    "## np.zeros() method: fills array with zero.\n",
    "##6Syntax: np.zeros((rows, column))"
   ]
  },
  {
   "cell_type": "code",
   "execution_count": 18,
   "id": "691e91cc",
   "metadata": {},
   "outputs": [
    {
     "data": {
      "text/plain": [
       "array([[0., 0., 0.],\n",
       "       [0., 0., 0.]])"
      ]
     },
     "execution_count": 18,
     "metadata": {},
     "output_type": "execute_result"
    }
   ],
   "source": [
    "array2 = np.zeros((2, 3))\n",
    "array2"
   ]
  },
  {
   "cell_type": "code",
   "execution_count": 6,
   "id": "e4c13cd0",
   "metadata": {},
   "outputs": [],
   "source": [
    "## np.full() method: fill array with single elements\n",
    "## Syntax: np.full((row, column), element)"
   ]
  },
  {
   "cell_type": "code",
   "execution_count": 19,
   "id": "0765b924",
   "metadata": {},
   "outputs": [
    {
     "data": {
      "text/plain": [
       "array([[6, 6, 6, 6],\n",
       "       [6, 6, 6, 6]])"
      ]
     },
     "execution_count": 19,
     "metadata": {},
     "output_type": "execute_result"
    }
   ],
   "source": [
    "array3 = np.full((2 ,4), 6)\n",
    "array3"
   ]
  },
  {
   "cell_type": "code",
   "execution_count": 7,
   "id": "4c5fb297",
   "metadata": {},
   "outputs": [],
   "source": [
    "## np.arrange() method: initialize array elements within the range.\n",
    "## Syntax: np.arrange(starting element[included], ending element[excluded], stepping number[optional])"
   ]
  },
  {
   "cell_type": "code",
   "execution_count": 21,
   "id": "53d4b288",
   "metadata": {},
   "outputs": [
    {
     "data": {
      "text/plain": [
       "array([5, 6, 7, 8, 9])"
      ]
     },
     "execution_count": 21,
     "metadata": {},
     "output_type": "execute_result"
    }
   ],
   "source": [
    "array4 = np.arange(5, 10)\n",
    "array4"
   ]
  },
  {
   "cell_type": "code",
   "execution_count": 22,
   "id": "6f757e11",
   "metadata": {},
   "outputs": [
    {
     "data": {
      "text/plain": [
       "array([ 2,  5,  8, 11])"
      ]
     },
     "execution_count": 22,
     "metadata": {},
     "output_type": "execute_result"
    }
   ],
   "source": [
    "array5 = np.arange(2, 12, 3)\n",
    "array5"
   ]
  },
  {
   "cell_type": "code",
   "execution_count": 8,
   "id": "7759470a",
   "metadata": {},
   "outputs": [],
   "source": [
    "## np.random.randint() method: produces random integers\n",
    "## Syntax: np.random.randint(starting range, ending range, number of values)"
   ]
  },
  {
   "cell_type": "code",
   "execution_count": 60,
   "id": "792f9f2a",
   "metadata": {},
   "outputs": [
    {
     "data": {
      "text/plain": [
       "212"
      ]
     },
     "execution_count": 60,
     "metadata": {},
     "output_type": "execute_result"
    }
   ],
   "source": [
    "array6 = np.random.randint(2, 300)\n",
    "array6"
   ]
  },
  {
   "cell_type": "code",
   "execution_count": 61,
   "id": "cac17dfe",
   "metadata": {},
   "outputs": [
    {
     "data": {
      "text/plain": [
       "array([ 60,  37, 145, 383, 309])"
      ]
     },
     "execution_count": 61,
     "metadata": {},
     "output_type": "execute_result"
    }
   ],
   "source": [
    "array7 = np.random.randint(10, 500, 5)\n",
    "array7"
   ]
  },
  {
   "cell_type": "code",
   "execution_count": 9,
   "id": "974801a4",
   "metadata": {},
   "outputs": [],
   "source": [
    "## shape method: changes the shape of the array \n",
    "## Syntax: \n",
    "###    checking the shape of array: array_name.shape\n",
    "###    changing shape of array: array_name.shape = (row, column)"
   ]
  },
  {
   "cell_type": "code",
   "execution_count": 64,
   "id": "da3b99dd",
   "metadata": {},
   "outputs": [
    {
     "data": {
      "text/plain": [
       "(4, 3)"
      ]
     },
     "execution_count": 64,
     "metadata": {},
     "output_type": "execute_result"
    }
   ],
   "source": [
    "array8 = np.array([[10, 20, 30], [40, 50, 60], [70, 80, 90], [100, 110, 120]])\n",
    "array8.shape"
   ]
  },
  {
   "cell_type": "code",
   "execution_count": 69,
   "id": "209a0e5a",
   "metadata": {},
   "outputs": [
    {
     "data": {
      "text/plain": [
       "(3, 4)"
      ]
     },
     "execution_count": 69,
     "metadata": {},
     "output_type": "execute_result"
    }
   ],
   "source": [
    "array8.shape = (3, 4)\n",
    "array8.shape"
   ]
  },
  {
   "cell_type": "code",
   "execution_count": 10,
   "id": "1a40f939",
   "metadata": {},
   "outputs": [],
   "source": [
    "## np.vstack() method: to vertically join the arrays.\n",
    "## Syntax: np.vstack((array1, array2, ...))"
   ]
  },
  {
   "cell_type": "code",
   "execution_count": 70,
   "id": "4ee79e9e",
   "metadata": {},
   "outputs": [
    {
     "data": {
      "text/plain": [
       "array([[ 1,  2,  3],\n",
       "       [ 4,  5,  6],\n",
       "       [11, 12, 13],\n",
       "       [14, 15, 16]])"
      ]
     },
     "execution_count": 70,
     "metadata": {},
     "output_type": "execute_result"
    }
   ],
   "source": [
    "array9 = np.array([[1, 2, 3], [4, 5, 6]])\n",
    "array10 = np.array([[11, 12,13], [14, 15, 16]])\n",
    "\n",
    "array11 = np.vstack((array9, array10))\n",
    "array11"
   ]
  },
  {
   "cell_type": "code",
   "execution_count": 11,
   "id": "6e70deae",
   "metadata": {},
   "outputs": [],
   "source": [
    "## np.hstack() method: to join arrays horizontally.\n",
    "## Syntax: np.hstack((array1, array2, ...))"
   ]
  },
  {
   "cell_type": "code",
   "execution_count": 71,
   "id": "5397511f",
   "metadata": {},
   "outputs": [
    {
     "data": {
      "text/plain": [
       "array([[ 1,  2,  3, 11, 12, 13],\n",
       "       [ 4,  5,  6, 14, 15, 16]])"
      ]
     },
     "execution_count": 71,
     "metadata": {},
     "output_type": "execute_result"
    }
   ],
   "source": [
    "array12 = np.array([[1, 2, 3], [4, 5, 6]])\n",
    "array13 = np.array([[11, 12,13], [14, 15, 16]])\n",
    "\n",
    "array14 = np.hstack((array12, array13))\n",
    "array14"
   ]
  },
  {
   "cell_type": "code",
   "execution_count": 12,
   "id": "f02c3e0a",
   "metadata": {},
   "outputs": [],
   "source": [
    "## np.column_stack() method: to join arrays in a column\n",
    "## Syntax: np.column_stack((array1, array2, ...))"
   ]
  },
  {
   "cell_type": "code",
   "execution_count": 72,
   "id": "f51d2d36",
   "metadata": {},
   "outputs": [
    {
     "data": {
      "text/plain": [
       "array([[ 1,  2,  3, 11, 12, 13],\n",
       "       [ 4,  5,  6, 14, 15, 16]])"
      ]
     },
     "execution_count": 72,
     "metadata": {},
     "output_type": "execute_result"
    }
   ],
   "source": [
    "array15 = np.array([[1, 2, 3], [4, 5, 6]])\n",
    "array16 = np.array([[11, 12,13], [14, 15, 16]])\n",
    "\n",
    "array17 = np.column_stack((array15, array16))\n",
    "array17"
   ]
  },
  {
   "cell_type": "code",
   "execution_count": 13,
   "id": "eda245f5",
   "metadata": {},
   "outputs": [],
   "source": [
    "## np.intersect1d() method: returns common elements of the two arrays.\n",
    "## Syntax: np.intersect1d(array1, array2)"
   ]
  },
  {
   "cell_type": "code",
   "execution_count": 76,
   "id": "192aad5d",
   "metadata": {},
   "outputs": [
    {
     "data": {
      "text/plain": [
       "array([4, 5, 6])"
      ]
     },
     "execution_count": 76,
     "metadata": {},
     "output_type": "execute_result"
    }
   ],
   "source": [
    "array18 = np.array([[1, 2, 3], [4, 5, 6]])\n",
    "array19 = np.array([[11, 12, 13], [4, 5, 6]])\n",
    "\n",
    "array20 = np.intersect1d(array18, array19)\n",
    "array20"
   ]
  },
  {
   "cell_type": "code",
   "execution_count": 78,
   "id": "04efa121",
   "metadata": {},
   "outputs": [
    {
     "data": {
      "text/plain": [
       "array([4, 5, 6])"
      ]
     },
     "execution_count": 78,
     "metadata": {},
     "output_type": "execute_result"
    }
   ],
   "source": [
    "array21 = np.intersect1d(array19, array18)\n",
    "array21"
   ]
  },
  {
   "cell_type": "code",
   "execution_count": null,
   "id": "7cf34a71",
   "metadata": {},
   "outputs": [],
   "source": [
    "## np.setdiff1d() method: returns the unique elements in the first array.\n",
    "## Syntax: np.setdiff1d(array1, array2)"
   ]
  },
  {
   "cell_type": "code",
   "execution_count": 83,
   "id": "f1e8046e",
   "metadata": {},
   "outputs": [
    {
     "data": {
      "text/plain": [
       "array([1, 2, 3])"
      ]
     },
     "execution_count": 83,
     "metadata": {},
     "output_type": "execute_result"
    }
   ],
   "source": [
    "array22 = np.array([[1, 2, 3], [4, 5, 6]])\n",
    "array23 = np.array([[11, 12, 13], [4, 5, 6]])\n",
    "\n",
    "array24 = np.setdiff1d(array22, array23)\n",
    "array24"
   ]
  },
  {
   "cell_type": "code",
   "execution_count": 84,
   "id": "b1d7dd91",
   "metadata": {},
   "outputs": [
    {
     "data": {
      "text/plain": [
       "array([11, 12, 13])"
      ]
     },
     "execution_count": 84,
     "metadata": {},
     "output_type": "execute_result"
    }
   ],
   "source": [
    "array25 = np.setdiff1d(array23, array22)\n",
    "array25"
   ]
  }
 ],
 "metadata": {
  "kernelspec": {
   "display_name": "Python 3 (ipykernel)",
   "language": "python",
   "name": "python3"
  },
  "language_info": {
   "codemirror_mode": {
    "name": "ipython",
    "version": 3
   },
   "file_extension": ".py",
   "mimetype": "text/x-python",
   "name": "python",
   "nbconvert_exporter": "python",
   "pygments_lexer": "ipython3",
   "version": "3.10.1"
  }
 },
 "nbformat": 4,
 "nbformat_minor": 5
}
